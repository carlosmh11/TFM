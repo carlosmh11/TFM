{
 "cells": [
  {
   "cell_type": "code",
   "execution_count": 18,
   "id": "ad8399bf",
   "metadata": {},
   "outputs": [],
   "source": [
    "import pandas as pd\n",
    "\n",
    "# Cargar los CSV correctamente con separador ;\n",
    "df_recopilados = pd.read_csv(\"datos_recopilados.csv\", sep=';')\n",
    "df_pronostico = pd.read_csv(\"datos_pronostico.csv\", sep=';')\n"
   ]
  },
  {
   "cell_type": "code",
   "execution_count": 19,
   "id": "106256ae",
   "metadata": {},
   "outputs": [],
   "source": [
    "from sklearn.impute import SimpleImputer\n",
    "\n",
    "# Variables predictoras\n",
    "features = [\n",
    "    'TMAX', 'TMIN', 'PREC',\n",
    "]\n",
    "\n",
    "# Separar datos X (features) e y (target)\n",
    "X = df_recopilados[features]\n",
    "y = df_recopilados['RIEGO']\n",
    "\n",
    "# Imputar valores faltantes con la media\n",
    "imputer = SimpleImputer(strategy='mean')\n",
    "X_imputed = imputer.fit_transform(X)\n"
   ]
  },
  {
   "cell_type": "code",
   "execution_count": 20,
   "id": "b4aeeca8",
   "metadata": {},
   "outputs": [
    {
     "name": "stdout",
     "output_type": "stream",
     "text": [
      "              precision    recall  f1-score   support\n",
      "\n",
      "           0       0.93      0.93      0.93     29188\n",
      "           1       0.76      0.78      0.77      8536\n",
      "\n",
      "    accuracy                           0.89     37724\n",
      "   macro avg       0.85      0.85      0.85     37724\n",
      "weighted avg       0.90      0.89      0.90     37724\n",
      "\n"
     ]
    }
   ],
   "source": [
    "from sklearn.ensemble import RandomForestClassifier\n",
    "from sklearn.model_selection import train_test_split\n",
    "from sklearn.metrics import classification_report\n",
    "\n",
    "# Dividir en entrenamiento y prueba\n",
    "X_train, X_test, y_train, y_test = train_test_split(X_imputed, y, test_size=0.2, random_state=42)\n",
    "\n",
    "# Crear y entrenar modelo Random Forest\n",
    "model = RandomForestClassifier(n_estimators=100, random_state=42)\n",
    "model.fit(X_train, y_train)\n",
    "\n",
    "# Evaluar el modelo\n",
    "y_pred = model.predict(X_test)\n",
    "report = classification_report(y_test, y_pred)\n",
    "print(report)\n"
   ]
  },
  {
   "cell_type": "code",
   "execution_count": 21,
   "id": "356eb888",
   "metadata": {},
   "outputs": [
    {
     "name": "stdout",
     "output_type": "stream",
     "text": [
      "  Feature  Importance\n",
      "0    TMAX    0.605468\n",
      "1    TMIN    0.352038\n",
      "2    PREC    0.042494\n"
     ]
    }
   ],
   "source": [
    "importances = model.feature_importances_\n",
    "feature_importance = pd.DataFrame({\n",
    "    'Feature': features,\n",
    "    'Importance': importances\n",
    "}).sort_values(by='Importance', ascending=False)\n",
    "\n",
    "print(feature_importance)\n"
   ]
  },
  {
   "cell_type": "code",
   "execution_count": 22,
   "id": "47f8634d",
   "metadata": {},
   "outputs": [
    {
     "name": "stdout",
     "output_type": "stream",
     "text": [
      "     PARAJE    MES       FECHA  RIEGO_PREDICT\n",
      "0  Abanilla  Enero  01/01/2025              0\n",
      "1  Abanilla  Enero  02/01/2025              0\n",
      "2  Abanilla  Enero  03/01/2025              0\n",
      "3  Abanilla  Enero  04/01/2025              0\n",
      "4  Abanilla  Enero  05/01/2025              0\n"
     ]
    }
   ],
   "source": [
    "# Preparar datos de pronóstico\n",
    "X_pred = imputer.transform(df_pronostico[features])\n",
    "\n",
    "# Predecir riego\n",
    "df_pronostico['RIEGO_PREDICT'] = model.predict(X_pred)\n",
    "\n",
    "# Mostrar los resultados\n",
    "print(df_pronostico[['PARAJE', 'MES', 'FECHA', 'RIEGO_PREDICT']].head())\n"
   ]
  },
  {
   "cell_type": "code",
   "execution_count": 23,
   "id": "b70a9a9b",
   "metadata": {},
   "outputs": [],
   "source": [
    "df_pronostico.to_csv(\"datos_pronostico_con_riego.csv\", index=False, sep=';')\n"
   ]
  }
 ],
 "metadata": {
  "kernelspec": {
   "display_name": "Python 3",
   "language": "python",
   "name": "python3"
  },
  "language_info": {
   "codemirror_mode": {
    "name": "ipython",
    "version": 3
   },
   "file_extension": ".py",
   "mimetype": "text/x-python",
   "name": "python",
   "nbconvert_exporter": "python",
   "pygments_lexer": "ipython3",
   "version": "3.13.3"
  }
 },
 "nbformat": 4,
 "nbformat_minor": 5
}
