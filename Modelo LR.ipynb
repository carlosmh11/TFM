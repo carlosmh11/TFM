{
 "cells": [
  {
   "cell_type": "code",
   "execution_count": 1,
   "id": "ad8399bf",
   "metadata": {},
   "outputs": [],
   "source": [
    "import pandas as pd\n",
    "\n",
    "# Cargar los CSV correctamente con separador ;\n",
    "df_recopilados = pd.read_csv(\"datos_recopilados.csv\", sep=';')\n",
    "df_pronostico = pd.read_csv(\"datos_pronostico.csv\", sep=';')\n"
   ]
  },
  {
   "cell_type": "code",
   "execution_count": 2,
   "id": "106256ae",
   "metadata": {},
   "outputs": [],
   "source": [
    "from sklearn.impute import SimpleImputer\n",
    "\n",
    "# Variables predictoras\n",
    "features = [\n",
    "    'TMAX', 'TMIN', 'PREC',\n",
    "]\n",
    "\n",
    "# Separar datos X (features) e y (target)\n",
    "X = df_recopilados[features]\n",
    "y = df_recopilados['RIEGO']\n",
    "\n",
    "# Imputar valores faltantes con la media\n",
    "imputer = SimpleImputer(strategy='mean')\n",
    "X_imputed = imputer.fit_transform(X)\n"
   ]
  },
  {
   "cell_type": "code",
   "execution_count": 5,
   "id": "b4aeeca8",
   "metadata": {},
   "outputs": [
    {
     "name": "stdout",
     "output_type": "stream",
     "text": [
      "              precision    recall  f1-score   support\n",
      "\n",
      "           0       0.93      0.94      0.93     29188\n",
      "           1       0.79      0.74      0.76      8536\n",
      "\n",
      "    accuracy                           0.90     37724\n",
      "   macro avg       0.86      0.84      0.85     37724\n",
      "weighted avg       0.89      0.90      0.89     37724\n",
      "\n"
     ]
    }
   ],
   "source": [
    "from sklearn.linear_model import LogisticRegression\n",
    "from sklearn.model_selection import train_test_split\n",
    "from sklearn.metrics import classification_report\n",
    "\n",
    "# Dividir en entrenamiento y prueba\n",
    "X_train, X_test, y_train, y_test = train_test_split(X_imputed, y, test_size=0.2, random_state=42)\n",
    "\n",
    "# Crear y entrenar modelo Random Forest\n",
    "model = LogisticRegression(random_state=42, max_iter=1000)\n",
    "model.fit(X_train, y_train)\n",
    "\n",
    "# Evaluar el modelo\n",
    "y_pred = model.predict(X_test)\n",
    "report = classification_report(y_test, y_pred)\n",
    "print(report)\n"
   ]
  }
 ],
 "metadata": {
  "kernelspec": {
   "display_name": "Python 3",
   "language": "python",
   "name": "python3"
  },
  "language_info": {
   "codemirror_mode": {
    "name": "ipython",
    "version": 3
   },
   "file_extension": ".py",
   "mimetype": "text/x-python",
   "name": "python",
   "nbconvert_exporter": "python",
   "pygments_lexer": "ipython3",
   "version": "3.13.3"
  }
 },
 "nbformat": 4,
 "nbformat_minor": 5
}
